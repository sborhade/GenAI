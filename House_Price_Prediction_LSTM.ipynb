
{
 "cells": [
  {
   "cell_type": "code",
   "execution_count": 1,
   "metadata": {},
   "outputs": [],
   "source": [
    "import numpy as np\n",
    "import pandas as pd\n",
    "import matplotlib.pyplot as plt\n",
    "from sklearn.preprocessing import StandardScaler\n",
    "import torch\n",
    "import torch.nn as nn\n",
    "import torch.optim as optim\n"
   ]
  },
  {
   "cell_type": "code",
   "execution_count": 2,
   "metadata": {},
   "outputs": [],
   "source": [
    "# Sample dataset (Square footage, Number of bedrooms, Age of house, Price)\n",
    "data = pd.DataFrame({\n",
    "    'Square_Feet': [1400, 1600, 1700, 1875, 1100, 1550, 2350, 2450, 1425, 1700],\n",
    "    'Bedrooms': [3, 3, 3, 3, 2, 3, 4, 4, 3, 3],\n",
    "    'Age': [10, 15, 20, 5, 8, 12, 15, 25, 30, 10],\n",
    "    'Price': [245000, 312000, 279000, 308000, 199000, 219000, 405000, 424000, 319000, 255000]\n",
    "})\n",
    "\n",
    "# Extract features and target variable\n",
    "X = data[['Square_Feet', 'Bedrooms', 'Age']].values\n",
    "y = data['Price'].values\n",
    "\n",
    "# Scale the features (standardization)\n",
    "scaler = StandardScaler()\n",
    "X_scaled = scaler.fit_transform(X)\n"
   ]
  },
  {
   "cell_type": "code",
   "execution_count": 3,
   "metadata": {},
   "outputs": [],
   "source": [
    "# Convert data to PyTorch tensors\n",
    "X_tensor = torch.tensor(X_scaled, dtype=torch.float32)\n",
    "y_tensor = torch.tensor(y, dtype=torch.float32).view(-1, 1)\n"
   ]
  },
  {
   "cell_type": "code",
   "execution_count": 4,
   "metadata": {},
   "outputs": [],
   "source": [
    "class HousePriceNN(nn.Module):\n",
    "    def __init__(self, input_size, output_size):\n",
    "        super(HousePriceNN, self).__init__()\n",
    "        self.fc1 = nn.Linear(input_size, 64)  # First hidden layer\n",
    "        self.fc2 = nn.Linear(64, 32)          # Second hidden layer\n",
    "        self.fc3 = nn.Linear(32, output_size) # Output layer\n",
    "    \n",
    "    def forward(self, x):\n",
    "        x = torch.relu(self.fc1(x))  # Apply ReLU activation function\n",
    "        x = torch.relu(self.fc2(x))  # Apply ReLU activation function\n",
    "        return self.fc3(x)\n"
   ]
  },
  {
   "cell_type": "code",
   "execution_count": 5,
   "metadata": {},
   "outputs": [],
   "source": [
    "# Initialize the model, loss function, and optimizer\n",
    "model = HousePriceNN(input_size=3, output_size=1)\n",
    "criterion = nn.MSELoss()  # Mean Squared Error Loss for regression tasks\n",
    "optimizer = optim.Adam(model.parameters(), lr=0.01)\n",
    "\n",
    "# Training loop\n",
    "num_epochs = 1000\n",
    "for epoch in range(num_epochs):\n",
    "    model.train()\n",
    "    \n",
    "    # Forward pass: Compute predicted y by passing x to the model\n",
    "    y_pred = model(X_tensor)\n",
    "    \n",
    "    # Compute the loss\n",
    "    loss = criterion(y_pred, y_tensor)\n",
    "    \n",
    "    # Backward pass: Compute gradients\n",
    "    optimizer.zero_grad()\n",
    "    loss.backward()\n",
    "    \n",
    "    # Update the model weights\n",
    "    optimizer.step()\n",
    "    \n",
    "    if (epoch + 1) % 100 == 0:\n",
    "        print(f"Epoch [{epoch+1}/{num_epochs}], Loss: {loss.item():.4f}")\n"
   ]
  },
  {
   "cell_type": "code",
   "execution_count": 6,
   "metadata": {},
   "outputs": [],
   "source": [
    "# Evaluate the model\n",
    "model.eval()\n",
    "\n",
    "# Predict house prices for the training data\n",
    "with torch.no_grad():  # Disable gradient calculation for prediction\n",
    "    predictions = model(X_tensor)\n",
    "\n",
    "# Convert predictions to numpy array for easier handling\n",
    "predictions = predictions.detach().numpy()\n"
   ]
  },
  {
   "cell_type": "code",
   "execution_count": 7,
   "metadata": {},
   "outputs": [],
   "source": [
    "# Plot true prices vs predicted prices\n",
    "plt.figure(figsize=(10, 6))\n",
    "plt.plot(y_tensor.numpy(), label='True Prices', marker='o', linestyle='dashed')\n",
    "plt.plot(predictions, label='Predicted Prices', marker='x', linestyle='solid')\n",
    "plt.title('House Price Prediction')\n",
    "plt.xlabel('Sample Index')\n",
    "plt.ylabel('Price (USD)')\n",
    "plt.legend()\n",
    "plt.show()\n"
   ]
  }
 ],
 "metadata": {
  "kernelspec": {
   "display_name": "Python 3",
   "language": "python",
   "name": "python3"
  },
  "language_info": {
   "codemirror_mode": {
    "name": "ipython",
    "version": 3
   },
   "file_extension": ".py",
   "mimetype": "text/x-python",
   "name": "python",
   "nbconvert_exporter": "python",
   "version": "3.8.8"
  }
 },
 "nbformat": 4,
 "nbformat_minor": 5
}
